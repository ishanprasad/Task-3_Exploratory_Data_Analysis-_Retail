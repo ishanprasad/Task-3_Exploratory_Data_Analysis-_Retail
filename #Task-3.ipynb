{
 "cells": [
  {
   "cell_type": "markdown",
   "id": "declared-cross",
   "metadata": {},
   "source": [
    "## **Ishan Prasad**"
   ]
  },
  {
   "cell_type": "markdown",
   "id": "settled-guidance",
   "metadata": {},
   "source": [
    "Task #3 Perform ‘Exploratory Data Analysis’ on dataset  ‘SampleSuperstore’ "
   ]
  },
  {
   "cell_type": "code",
   "execution_count": 28,
   "id": "tired-ending",
   "metadata": {},
   "outputs": [],
   "source": [
    "import pandas as pd\n",
    "import matplotlib.pyplot as plt\n",
    "import seaborn as ss\n",
    "import numpy as np\n",
    "%matplotlib inline"
   ]
  },
  {
   "cell_type": "code",
   "execution_count": 29,
   "id": "outstanding-cooling",
   "metadata": {},
   "outputs": [],
   "source": [
    "df=pd.read_csv(\"SampleSuperstore.csv\")"
   ]
  },
  {
   "cell_type": "code",
   "execution_count": 30,
   "id": "sensitive-courage",
   "metadata": {},
   "outputs": [
    {
     "data": {
      "text/html": [
       "<div>\n",
       "<style scoped>\n",
       "    .dataframe tbody tr th:only-of-type {\n",
       "        vertical-align: middle;\n",
       "    }\n",
       "\n",
       "    .dataframe tbody tr th {\n",
       "        vertical-align: top;\n",
       "    }\n",
       "\n",
       "    .dataframe thead th {\n",
       "        text-align: right;\n",
       "    }\n",
       "</style>\n",
       "<table border=\"1\" class=\"dataframe\">\n",
       "  <thead>\n",
       "    <tr style=\"text-align: right;\">\n",
       "      <th></th>\n",
       "      <th>Ship Mode</th>\n",
       "      <th>Segment</th>\n",
       "      <th>Country</th>\n",
       "      <th>City</th>\n",
       "      <th>State</th>\n",
       "      <th>Postal Code</th>\n",
       "      <th>Region</th>\n",
       "      <th>Category</th>\n",
       "      <th>Sub-Category</th>\n",
       "      <th>Sales</th>\n",
       "      <th>Quantity</th>\n",
       "      <th>Discount</th>\n",
       "      <th>Profit</th>\n",
       "    </tr>\n",
       "  </thead>\n",
       "  <tbody>\n",
       "    <tr>\n",
       "      <th>0</th>\n",
       "      <td>Second Class</td>\n",
       "      <td>Consumer</td>\n",
       "      <td>United States</td>\n",
       "      <td>Henderson</td>\n",
       "      <td>Kentucky</td>\n",
       "      <td>42420</td>\n",
       "      <td>South</td>\n",
       "      <td>Furniture</td>\n",
       "      <td>Bookcases</td>\n",
       "      <td>261.9600</td>\n",
       "      <td>2</td>\n",
       "      <td>0.00</td>\n",
       "      <td>41.9136</td>\n",
       "    </tr>\n",
       "    <tr>\n",
       "      <th>1</th>\n",
       "      <td>Second Class</td>\n",
       "      <td>Consumer</td>\n",
       "      <td>United States</td>\n",
       "      <td>Henderson</td>\n",
       "      <td>Kentucky</td>\n",
       "      <td>42420</td>\n",
       "      <td>South</td>\n",
       "      <td>Furniture</td>\n",
       "      <td>Chairs</td>\n",
       "      <td>731.9400</td>\n",
       "      <td>3</td>\n",
       "      <td>0.00</td>\n",
       "      <td>219.5820</td>\n",
       "    </tr>\n",
       "    <tr>\n",
       "      <th>2</th>\n",
       "      <td>Second Class</td>\n",
       "      <td>Corporate</td>\n",
       "      <td>United States</td>\n",
       "      <td>Los Angeles</td>\n",
       "      <td>California</td>\n",
       "      <td>90036</td>\n",
       "      <td>West</td>\n",
       "      <td>Office Supplies</td>\n",
       "      <td>Labels</td>\n",
       "      <td>14.6200</td>\n",
       "      <td>2</td>\n",
       "      <td>0.00</td>\n",
       "      <td>6.8714</td>\n",
       "    </tr>\n",
       "    <tr>\n",
       "      <th>3</th>\n",
       "      <td>Standard Class</td>\n",
       "      <td>Consumer</td>\n",
       "      <td>United States</td>\n",
       "      <td>Fort Lauderdale</td>\n",
       "      <td>Florida</td>\n",
       "      <td>33311</td>\n",
       "      <td>South</td>\n",
       "      <td>Furniture</td>\n",
       "      <td>Tables</td>\n",
       "      <td>957.5775</td>\n",
       "      <td>5</td>\n",
       "      <td>0.45</td>\n",
       "      <td>-383.0310</td>\n",
       "    </tr>\n",
       "    <tr>\n",
       "      <th>4</th>\n",
       "      <td>Standard Class</td>\n",
       "      <td>Consumer</td>\n",
       "      <td>United States</td>\n",
       "      <td>Fort Lauderdale</td>\n",
       "      <td>Florida</td>\n",
       "      <td>33311</td>\n",
       "      <td>South</td>\n",
       "      <td>Office Supplies</td>\n",
       "      <td>Storage</td>\n",
       "      <td>22.3680</td>\n",
       "      <td>2</td>\n",
       "      <td>0.20</td>\n",
       "      <td>2.5164</td>\n",
       "    </tr>\n",
       "  </tbody>\n",
       "</table>\n",
       "</div>"
      ],
      "text/plain": [
       "        Ship Mode    Segment        Country             City       State  \\\n",
       "0    Second Class   Consumer  United States        Henderson    Kentucky   \n",
       "1    Second Class   Consumer  United States        Henderson    Kentucky   \n",
       "2    Second Class  Corporate  United States      Los Angeles  California   \n",
       "3  Standard Class   Consumer  United States  Fort Lauderdale     Florida   \n",
       "4  Standard Class   Consumer  United States  Fort Lauderdale     Florida   \n",
       "\n",
       "   Postal Code Region         Category Sub-Category     Sales  Quantity  \\\n",
       "0        42420  South        Furniture    Bookcases  261.9600         2   \n",
       "1        42420  South        Furniture       Chairs  731.9400         3   \n",
       "2        90036   West  Office Supplies       Labels   14.6200         2   \n",
       "3        33311  South        Furniture       Tables  957.5775         5   \n",
       "4        33311  South  Office Supplies      Storage   22.3680         2   \n",
       "\n",
       "   Discount    Profit  \n",
       "0      0.00   41.9136  \n",
       "1      0.00  219.5820  \n",
       "2      0.00    6.8714  \n",
       "3      0.45 -383.0310  \n",
       "4      0.20    2.5164  "
      ]
     },
     "execution_count": 30,
     "metadata": {},
     "output_type": "execute_result"
    }
   ],
   "source": [
    "df.head()"
   ]
  },
  {
   "cell_type": "code",
   "execution_count": 4,
   "id": "economic-prediction",
   "metadata": {},
   "outputs": [
    {
     "data": {
      "text/html": [
       "<div>\n",
       "<style scoped>\n",
       "    .dataframe tbody tr th:only-of-type {\n",
       "        vertical-align: middle;\n",
       "    }\n",
       "\n",
       "    .dataframe tbody tr th {\n",
       "        vertical-align: top;\n",
       "    }\n",
       "\n",
       "    .dataframe thead th {\n",
       "        text-align: right;\n",
       "    }\n",
       "</style>\n",
       "<table border=\"1\" class=\"dataframe\">\n",
       "  <thead>\n",
       "    <tr style=\"text-align: right;\">\n",
       "      <th></th>\n",
       "      <th>count</th>\n",
       "      <th>mean</th>\n",
       "      <th>std</th>\n",
       "      <th>min</th>\n",
       "      <th>25%</th>\n",
       "      <th>50%</th>\n",
       "      <th>75%</th>\n",
       "      <th>max</th>\n",
       "    </tr>\n",
       "  </thead>\n",
       "  <tbody>\n",
       "    <tr>\n",
       "      <th>Postal Code</th>\n",
       "      <td>9994.0</td>\n",
       "      <td>55190.379428</td>\n",
       "      <td>32063.693350</td>\n",
       "      <td>1040.000</td>\n",
       "      <td>23223.00000</td>\n",
       "      <td>56430.5000</td>\n",
       "      <td>90008.000</td>\n",
       "      <td>99301.000</td>\n",
       "    </tr>\n",
       "    <tr>\n",
       "      <th>Sales</th>\n",
       "      <td>9994.0</td>\n",
       "      <td>229.858001</td>\n",
       "      <td>623.245101</td>\n",
       "      <td>0.444</td>\n",
       "      <td>17.28000</td>\n",
       "      <td>54.4900</td>\n",
       "      <td>209.940</td>\n",
       "      <td>22638.480</td>\n",
       "    </tr>\n",
       "    <tr>\n",
       "      <th>Quantity</th>\n",
       "      <td>9994.0</td>\n",
       "      <td>3.789574</td>\n",
       "      <td>2.225110</td>\n",
       "      <td>1.000</td>\n",
       "      <td>2.00000</td>\n",
       "      <td>3.0000</td>\n",
       "      <td>5.000</td>\n",
       "      <td>14.000</td>\n",
       "    </tr>\n",
       "    <tr>\n",
       "      <th>Discount</th>\n",
       "      <td>9994.0</td>\n",
       "      <td>0.156203</td>\n",
       "      <td>0.206452</td>\n",
       "      <td>0.000</td>\n",
       "      <td>0.00000</td>\n",
       "      <td>0.2000</td>\n",
       "      <td>0.200</td>\n",
       "      <td>0.800</td>\n",
       "    </tr>\n",
       "    <tr>\n",
       "      <th>Profit</th>\n",
       "      <td>9994.0</td>\n",
       "      <td>28.656896</td>\n",
       "      <td>234.260108</td>\n",
       "      <td>-6599.978</td>\n",
       "      <td>1.72875</td>\n",
       "      <td>8.6665</td>\n",
       "      <td>29.364</td>\n",
       "      <td>8399.976</td>\n",
       "    </tr>\n",
       "  </tbody>\n",
       "</table>\n",
       "</div>"
      ],
      "text/plain": [
       "              count          mean           std       min          25%  \\\n",
       "Postal Code  9994.0  55190.379428  32063.693350  1040.000  23223.00000   \n",
       "Sales        9994.0    229.858001    623.245101     0.444     17.28000   \n",
       "Quantity     9994.0      3.789574      2.225110     1.000      2.00000   \n",
       "Discount     9994.0      0.156203      0.206452     0.000      0.00000   \n",
       "Profit       9994.0     28.656896    234.260108 -6599.978      1.72875   \n",
       "\n",
       "                    50%        75%        max  \n",
       "Postal Code  56430.5000  90008.000  99301.000  \n",
       "Sales           54.4900    209.940  22638.480  \n",
       "Quantity         3.0000      5.000     14.000  \n",
       "Discount         0.2000      0.200      0.800  \n",
       "Profit           8.6665     29.364   8399.976  "
      ]
     },
     "execution_count": 4,
     "metadata": {},
     "output_type": "execute_result"
    }
   ],
   "source": [
    "df.describe().T"
   ]
  },
  {
   "cell_type": "code",
   "execution_count": 5,
   "id": "proper-indonesia",
   "metadata": {},
   "outputs": [
    {
     "name": "stdout",
     "output_type": "stream",
     "text": [
      "<class 'pandas.core.frame.DataFrame'>\n",
      "RangeIndex: 9994 entries, 0 to 9993\n",
      "Data columns (total 13 columns):\n",
      " #   Column        Non-Null Count  Dtype  \n",
      "---  ------        --------------  -----  \n",
      " 0   Ship Mode     9994 non-null   object \n",
      " 1   Segment       9994 non-null   object \n",
      " 2   Country       9994 non-null   object \n",
      " 3   City          9994 non-null   object \n",
      " 4   State         9994 non-null   object \n",
      " 5   Postal Code   9994 non-null   int64  \n",
      " 6   Region        9994 non-null   object \n",
      " 7   Category      9994 non-null   object \n",
      " 8   Sub-Category  9994 non-null   object \n",
      " 9   Sales         9994 non-null   float64\n",
      " 10  Quantity      9994 non-null   int64  \n",
      " 11  Discount      9994 non-null   float64\n",
      " 12  Profit        9994 non-null   float64\n",
      "dtypes: float64(3), int64(2), object(8)\n",
      "memory usage: 1015.1+ KB\n"
     ]
    }
   ],
   "source": [
    "df.info()"
   ]
  },
  {
   "cell_type": "code",
   "execution_count": 6,
   "id": "crude-prevention",
   "metadata": {},
   "outputs": [
    {
     "data": {
      "text/plain": [
       "Index(['Ship Mode', 'Segment', 'Country', 'City', 'State', 'Postal Code',\n",
       "       'Region', 'Category', 'Sub-Category', 'Sales', 'Quantity', 'Discount',\n",
       "       'Profit'],\n",
       "      dtype='object')"
      ]
     },
     "execution_count": 6,
     "metadata": {},
     "output_type": "execute_result"
    }
   ],
   "source": [
    "df.columns\n"
   ]
  },
  {
   "cell_type": "code",
   "execution_count": 7,
   "id": "stopped-organ",
   "metadata": {},
   "outputs": [
    {
     "name": "stdout",
     "output_type": "stream",
     "text": [
      "['Second Class' 'Standard Class' 'First Class' 'Same Day']\n",
      "['Consumer' 'Corporate' 'Home Office']\n",
      "['United States']\n",
      "['South' 'West' 'Central' 'East']\n",
      "['Furniture' 'Office Supplies' 'Technology']\n",
      "['Bookcases' 'Chairs' 'Labels' 'Tables' 'Storage' 'Furnishings' 'Art'\n",
      " 'Phones' 'Binders' 'Appliances' 'Paper' 'Accessories' 'Envelopes'\n",
      " 'Fasteners' 'Supplies' 'Machines' 'Copiers']\n",
      "[ 2  3  5  7  4  6  9  1  8 14 11 13 10 12]\n",
      "[0.   0.45 0.2  0.8  0.3  0.5  0.7  0.6  0.32 0.1  0.4  0.15]\n"
     ]
    }
   ],
   "source": [
    "print(df[\"Ship Mode\"].unique()) \n",
    "print(df[\"Segment\"].unique())\n",
    "print(df[\"Country\"].unique())\n",
    "print(df[\"Region\"].unique())\n",
    "print(df[\"Category\"].unique())\n",
    "print(df[\"Sub-Category\"].unique())\n",
    "print(df[\"Quantity\"].unique())\n",
    "print(df[\"Discount\"].unique())\n"
   ]
  },
  {
   "cell_type": "code",
   "execution_count": 31,
   "id": "surprised-footage",
   "metadata": {},
   "outputs": [],
   "source": [
    "col=['Country','Postal Code']\n"
   ]
  },
  {
   "cell_type": "code",
   "execution_count": 32,
   "id": "covered-colors",
   "metadata": {},
   "outputs": [],
   "source": [
    "df=df.drop(columns=col,axis=1)"
   ]
  },
  {
   "cell_type": "code",
   "execution_count": 33,
   "id": "statutory-caution",
   "metadata": {},
   "outputs": [
    {
     "name": "stdout",
     "output_type": "stream",
     "text": [
      "<class 'pandas.core.frame.DataFrame'>\n",
      "RangeIndex: 9994 entries, 0 to 9993\n",
      "Data columns (total 11 columns):\n",
      " #   Column        Non-Null Count  Dtype  \n",
      "---  ------        --------------  -----  \n",
      " 0   Ship Mode     9994 non-null   object \n",
      " 1   Segment       9994 non-null   object \n",
      " 2   City          9994 non-null   object \n",
      " 3   State         9994 non-null   object \n",
      " 4   Region        9994 non-null   object \n",
      " 5   Category      9994 non-null   object \n",
      " 6   Sub-Category  9994 non-null   object \n",
      " 7   Sales         9994 non-null   float64\n",
      " 8   Quantity      9994 non-null   int64  \n",
      " 9   Discount      9994 non-null   float64\n",
      " 10  Profit        9994 non-null   float64\n",
      "dtypes: float64(3), int64(1), object(7)\n",
      "memory usage: 859.0+ KB\n"
     ]
    }
   ],
   "source": [
    "df.info()"
   ]
  },
  {
   "cell_type": "code",
   "execution_count": 34,
   "id": "retired-massage",
   "metadata": {},
   "outputs": [
    {
     "data": {
      "text/plain": [
       "50"
      ]
     },
     "execution_count": 34,
     "metadata": {},
     "output_type": "execute_result"
    }
   ],
   "source": [
    "df.duplicated().sum()"
   ]
  },
  {
   "cell_type": "code",
   "execution_count": 12,
   "id": "focused-vietnamese",
   "metadata": {},
   "outputs": [],
   "source": [
    "df.drop_duplicates(keep='first',inplace=True)\n"
   ]
  },
  {
   "cell_type": "code",
   "execution_count": 13,
   "id": "requested-excellence",
   "metadata": {},
   "outputs": [
    {
     "data": {
      "text/plain": [
       "(9944, 11)"
      ]
     },
     "execution_count": 13,
     "metadata": {},
     "output_type": "execute_result"
    }
   ],
   "source": [
    "df.shape"
   ]
  },
  {
   "cell_type": "code",
   "execution_count": 35,
   "id": "exciting-coalition",
   "metadata": {},
   "outputs": [
    {
     "data": {
      "text/plain": [
       "Ship Mode       0\n",
       "Segment         0\n",
       "City            0\n",
       "State           0\n",
       "Region          0\n",
       "Category        0\n",
       "Sub-Category    0\n",
       "Sales           0\n",
       "Quantity        0\n",
       "Discount        0\n",
       "Profit          0\n",
       "dtype: int64"
      ]
     },
     "execution_count": 35,
     "metadata": {},
     "output_type": "execute_result"
    }
   ],
   "source": [
    "df.isnull().sum()"
   ]
  },
  {
   "cell_type": "code",
   "execution_count": 36,
   "id": "unlimited-chuck",
   "metadata": {},
   "outputs": [
    {
     "data": {
      "image/png": "[encoded data removed]",
      "text/plain": [
       "<Figure size 432x288 with 1 Axes>"
      ]
     },
     "metadata": {
      "needs_background": "light"
     },
     "output_type": "display_data"
    }
   ],
   "source": [
    "#ship mode\n",
    "bins = 7\n",
    "plt.hist(df['Ship Mode'], bins, facecolor = 'pink', alpha = 1)\n",
    "plt.show()"
   ]
  },
  {
   "cell_type": "code",
   "execution_count": 37,
   "id": "lightweight-bradford",
   "metadata": {},
   "outputs": [
    {
     "data": {
      "image/png": "[encoded data removed]",
      "text/plain": [
       "<Figure size 432x288 with 1 Axes>"
      ]
     },
     "metadata": {
      "needs_background": "light"
     },
     "output_type": "display_data"
    }
   ],
   "source": [
    "#Segment\n",
    "bins = 5\n",
    "plt.hist(df['Segment'], bins, facecolor = 'red', alpha = 1)\n",
    "plt.show()"
   ]
  },
  {
   "cell_type": "code",
   "execution_count": 38,
   "id": "republican-bailey",
   "metadata": {},
   "outputs": [
    {
     "data": {
      "image/png": "[encoded data removed]",
      "text/plain": [
       "<Figure size 432x288 with 1 Axes>"
      ]
     },
     "metadata": {
      "needs_background": "light"
     },
     "output_type": "display_data"
    }
   ],
   "source": [
    "#Postal Code\n",
    "bins = 5\n",
    "plt.hist(df['Category'], bins, facecolor = 'purple', alpha = 1)\n",
    "plt.show()"
   ]
  },
  {
   "cell_type": "code",
   "execution_count": 39,
   "id": "owned-affair",
   "metadata": {},
   "outputs": [
    {
     "data": {
      "image/png": "[encoded data removed]",
      "text/plain": [
       "<Figure size 432x288 with 1 Axes>"
      ]
     },
     "metadata": {
      "needs_background": "light"
     },
     "output_type": "display_data"
    }
   ],
   "source": [
    "#Discount\n",
    "bins = 15\n",
    "plt.hist(df['Discount'], bins, facecolor = 'black', alpha = 1)\n",
    "plt.show()"
   ]
  },
  {
   "cell_type": "code",
   "execution_count": 40,
   "id": "growing-seventh",
   "metadata": {},
   "outputs": [
    {
     "name": "stdout",
     "output_type": "stream",
     "text": [
      "Sales by Ship\n",
      "\n",
      "        Ship Mode         Sales\n",
      "0     First Class  3.514284e+05\n",
      "1        Same Day  1.283631e+05\n",
      "2    Second Class  4.591936e+05\n",
      "3  Standard Class  1.358216e+06\n"
     ]
    },
    {
     "data": {
      "text/plain": [
       "<AxesSubplot:xlabel='Ship Mode', ylabel='Sales'>"
      ]
     },
     "execution_count": 40,
     "metadata": {},
     "output_type": "execute_result"
    },
    {
     "data": {
      "image/png": "[encoded data removed]",
      "text/plain": [
       "<Figure size 432x288 with 1 Axes>"
      ]
     },
     "metadata": {
      "needs_background": "light"
     },
     "output_type": "display_data"
    }
   ],
   "source": [
    "sale_ship_mode= df.groupby(['Ship Mode'], as_index=False)['Sales'].sum()\n",
    "print('Sales by Ship\\n')\n",
    "print(sale_ship_mode)\n",
    "ss.barplot(x=sale_ship_mode['Ship Mode'],y=sale_ship_mode['Sales'])"
   ]
  },
  {
   "cell_type": "markdown",
   "id": "engaging-anime",
   "metadata": {},
   "source": [
    "# **SALES PROFITABILITY**"
   ]
  },
  {
   "cell_type": "code",
   "execution_count": 41,
   "id": "roman-wales",
   "metadata": {},
   "outputs": [
    {
     "name": "stdout",
     "output_type": "stream",
     "text": [
      "Profit\n",
      "-6599.9780    1\n",
      "-3839.9904    1\n",
      "-3701.8928    1\n",
      "-3399.9800    1\n",
      "-2929.4845    1\n",
      "             ..\n",
      " 4630.4755    1\n",
      " 4946.3700    1\n",
      " 5039.9856    1\n",
      " 6719.9808    1\n",
      " 8399.9760    1\n",
      "Length: 7287, dtype: int64\n"
     ]
    },
    {
     "data": {
      "text/plain": [
       "Text(0.5, 0, 'Sales')"
      ]
     },
     "execution_count": 41,
     "metadata": {},
     "output_type": "execute_result"
    },
    {
     "data": {
      "image/png": "[encoded data removed]",
      "text/plain": [
       "<Figure size 432x288 with 1 Axes>"
      ]
     },
     "metadata": {
      "needs_background": "light"
     },
     "output_type": "display_data"
    }
   ],
   "source": [
    "s_profitability = df.groupby('Profit').size()\n",
    "print(s_profitability)\n",
    "plot_p = s_profitability.plot(title='Sales Profitability', xticks = range(0,20))\n",
    "plot_p.set_xlabel('Profit')\n",
    "plot_p.set_xlabel('Sales')"
   ]
  },
  {
   "cell_type": "markdown",
   "id": "varied-muslim",
   "metadata": {},
   "source": [
    "# **REGIONAL SALES**"
   ]
  },
  {
   "cell_type": "code",
   "execution_count": 42,
   "id": "immune-lotus",
   "metadata": {},
   "outputs": [
    {
     "name": "stdout",
     "output_type": "stream",
     "text": [
      "Region\n",
      "Central    2323\n",
      "East       2848\n",
      "South      1620\n",
      "West       3203\n",
      "dtype: int64\n"
     ]
    },
    {
     "data": {
      "text/plain": [
       "Text(0.5, 0, 'Sales')"
      ]
     },
     "execution_count": 42,
     "metadata": {},
     "output_type": "execute_result"
    },
    {
     "data": {
      "image/png": "[encoded data removed]",
      "text/plain": [
       "<Figure size 432x288 with 1 Axes>"
      ]
     },
     "metadata": {
      "needs_background": "light"
     },
     "output_type": "display_data"
    }
   ],
   "source": [
    "regional_s = df.groupby('Region').size()\n",
    "print(regional_s)\n",
    "plot_p = regional_s.plot(title='Regional Sales', xticks = (1,2,3,4))\n",
    "plot_p.set_xlabel('Region')\n",
    "plot_p.set_xlabel('Sales')"
   ]
  },
  {
   "cell_type": "markdown",
   "id": "adjustable-cattle",
   "metadata": {},
   "source": [
    "# **SALES by SEGMENT** "
   ]
  },
  {
   "cell_type": "code",
   "execution_count": 43,
   "id": "average-horse",
   "metadata": {},
   "outputs": [
    {
     "name": "stdout",
     "output_type": "stream",
     "text": [
      "Segment\n",
      "Consumer       5191\n",
      "Corporate      3020\n",
      "Home Office    1783\n",
      "dtype: int64\n"
     ]
    },
    {
     "data": {
      "text/plain": [
       "Text(0.5, 0, 'Sales')"
      ]
     },
     "execution_count": 43,
     "metadata": {},
     "output_type": "execute_result"
    },
    {
     "data": {
      "image/png": "[encoded data removed]",
      "text/plain": [
       "<Figure size 432x288 with 1 Axes>"
      ]
     },
     "metadata": {
      "needs_background": "light"
     },
     "output_type": "display_data"
    }
   ],
   "source": [
    "segmental_s = df.groupby('Segment').size()\n",
    "print(segmental_s)\n",
    "plot_p = segmental_s.plot(title='Segemental Sales')\n",
    "plot_p.set_xlabel('Segment')\n",
    "plot_p.set_xlabel('Sales')"
   ]
  },
  {
   "cell_type": "markdown",
   "id": "asian-oriental",
   "metadata": {},
   "source": [
    "# **CATEGORIAL SALES**"
   ]
  },
  {
   "cell_type": "code",
   "execution_count": 44,
   "id": "northern-criminal",
   "metadata": {},
   "outputs": [
    {
     "name": "stdout",
     "output_type": "stream",
     "text": [
      "Category\n",
      "Furniture          2121\n",
      "Office Supplies    6026\n",
      "Technology         1847\n",
      "dtype: int64\n"
     ]
    },
    {
     "data": {
      "text/plain": [
       "Text(0.5, 0, 'Prodit')"
      ]
     },
     "execution_count": 44,
     "metadata": {},
     "output_type": "execute_result"
    },
    {
     "data": {
      "image/png": "[encoded data removed]",
      "text/plain": [
       "<Figure size 432x288 with 1 Axes>"
      ]
     },
     "metadata": {
      "needs_background": "light"
     },
     "output_type": "display_data"
    }
   ],
   "source": [
    "category_s = df.groupby('Category').size()\n",
    "print(category_s)\n",
    "plot_p = category_s.plot(title='Category')\n",
    "plot_p.set_xlabel('Category')\n",
    "plot_p.set_xlabel('Prodit')"
   ]
  },
  {
   "cell_type": "markdown",
   "id": "applicable-donna",
   "metadata": {},
   "source": [
    "# **Sales By Discount**"
   ]
  },
  {
   "cell_type": "code",
   "execution_count": 45,
   "id": "pressing-assault",
   "metadata": {},
   "outputs": [
    {
     "name": "stdout",
     "output_type": "stream",
     "text": [
      "sale_Discount\n",
      "\n",
      "    Discount         Sales\n",
      "0       0.00  1.087908e+06\n",
      "1       0.10  5.436935e+04\n",
      "2       0.15  2.755852e+04\n",
      "3       0.20  7.645944e+05\n",
      "4       0.30  1.032267e+05\n",
      "5       0.32  1.449346e+04\n",
      "6       0.40  1.164178e+05\n",
      "7       0.45  5.484974e+03\n",
      "8       0.50  5.891854e+04\n",
      "9       0.60  6.644700e+03\n",
      "10      0.70  4.062028e+04\n",
      "11      0.80  1.696376e+04\n"
     ]
    },
    {
     "data": {
      "text/plain": [
       "<AxesSubplot:xlabel='Discount', ylabel='Sales'>"
      ]
     },
     "execution_count": 45,
     "metadata": {},
     "output_type": "execute_result"
    },
    {
     "data": {
      "image/png": "[encoded data removed]",
      "text/plain": [
       "<Figure size 432x288 with 1 Axes>"
      ]
     },
     "metadata": {
      "needs_background": "light"
     },
     "output_type": "display_data"
    }
   ],
   "source": [
    "sale_Discount= df.groupby(['Discount'], as_index=False)['Sales'].sum()\n",
    "print('sale_Discount\\n')\n",
    "print(sale_Discount)\n",
    "ss.barplot(x=sale_Discount['Discount'],y=sale_Discount['Sales'])"
   ]
  },
  {
   "cell_type": "markdown",
   "id": "biological-windows",
   "metadata": {},
   "source": [
    "### **Discount vs Profit**"
   ]
  },
  {
   "cell_type": "code",
   "execution_count": 46,
   "id": "featured-armenia",
   "metadata": {
    "scrolled": true
   },
   "outputs": [
    {
     "data": {
      "image/png": "[encoded data removed]",
      "text/plain": [
       "<Figure size 432x288 with 1 Axes>"
      ]
     },
     "metadata": {
      "needs_background": "light"
     },
     "output_type": "display_data"
    }
   ],
   "source": [
    "df.plot(x='Profit', y='Sales', style ='o')\n",
    "plt.title('Discount vs Profit')\n",
    "plt.xlabel('Discount')\n",
    "plt.ylabel('Profit')\n",
    "plt.show()"
   ]
  },
  {
   "cell_type": "markdown",
   "id": "concerned-profit",
   "metadata": {},
   "source": [
    "### **Quantity vs Sales**"
   ]
  },
  {
   "cell_type": "code",
   "execution_count": 47,
   "id": "alien-pleasure",
   "metadata": {},
   "outputs": [
    {
     "data": {
      "image/png": "[encoded data removed]",
      "text/plain": [
       "<Figure size 432x288 with 1 Axes>"
      ]
     },
     "metadata": {
      "needs_background": "light"
     },
     "output_type": "display_data"
    }
   ],
   "source": [
    "df.plot(x='Quantity', y='Sales', style ='o')\n",
    "plt.title('Discount vs Profit')\n",
    "plt.xlabel('Quantity')\n",
    "plt.ylabel('Profit')\n",
    "plt.show()"
   ]
  },
  {
   "cell_type": "markdown",
   "id": "lasting-management",
   "metadata": {},
   "source": [
    "### **Discount vs Sales**"
   ]
  },
  {
   "cell_type": "code",
   "execution_count": 48,
   "id": "dried-sharp",
   "metadata": {
    "scrolled": true
   },
   "outputs": [
    {
     "data": {
      "image/png": "[encoded data removed]",
      "text/plain": [
       "<Figure size 432x288 with 1 Axes>"
      ]
     },
     "metadata": {
      "needs_background": "light"
     },
     "output_type": "display_data"
    }
   ],
   "source": [
    "df.plot(x='Discount', y='Sales', style ='o')\n",
    "plt.title('Discount vs Profit')\n",
    "plt.xlabel('Discount')\n",
    "plt.ylabel('Sales')\n",
    "plt.show()"
   ]
  },
  {
   "cell_type": "markdown",
   "id": "billion-judge",
   "metadata": {},
   "source": [
    "# **Thank you**"
   ]
  }
 ],
 "metadata": {
  "kernelspec": {
   "display_name": "Python 3",
   "language": "python",
   "name": "python3"
  },
  "language_info": {
   "codemirror_mode": {
    "name": "ipython",
    "version": 3
   },
   "file_extension": ".py",
   "mimetype": "text/x-python",
   "name": "python",
   "nbconvert_exporter": "python",
   "pygments_lexer": "ipython3",
   "version": "3.9.3"
  }
 },
 "nbformat": 4,
 "nbformat_minor": 5
}
